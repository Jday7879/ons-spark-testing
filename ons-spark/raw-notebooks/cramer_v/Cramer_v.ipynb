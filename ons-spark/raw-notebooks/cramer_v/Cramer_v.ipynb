{
 "cells": [
  {
   "cell_type": "markdown",
   "metadata": {},
   "source": [
    "## Calculating Cramér's V from a Spark DataFrame\n",
    "\n",
    "### What is Cramér's V?\n",
    "Cramér's V is a statistical measure of an association between two nominal variables, giving a value between 0 and 1 inclusive. Here 0 would indicate no association and 1 indicates a strong association between the two variables. It is based on Pearson's chi-square statistics.\n",
    "\n",
    "We calculate Cramér's V as follows:\n",
    "\n",
    "$$ \\text{Cramer's V} = \\sqrt{\\dfrac{\\dfrac{\\chi^2}{n}}{\\min (c-1,r-1)}}, $$ \n",
    "where:\n",
    "- $\\chi^2$ is the Chi-squared statistic,\n",
    "- $n$ is the number of samples,\n",
    "- $r$ is the number of rows,\n",
    "- $c$ is the number of columns.\n",
    "\n",
    "In some literature you may see the Phi coefficient used ($\\phi$), where $\\phi^2 = \\chi^2/n$.\n",
    "\n",
    "### Cramér's V in Spark:\n",
    "Although there is not an in built method for calculating this statistic in base python, is it reasonably straightforward using `numpy` and `scipy.stats` packages. An example of this can be found [online here](https://www.statology.org/cramers-v-in-python/).\n",
    "A similar example for R is linked [here](https://www.statology.org/cramers-v-in-r/).\n",
    "\n",
    "To calculate the Cramér V statistic, we will need to first calculate the $\\chi^2$ statistic. In python we will utilise `scipy.stats.chi2_contingency` and `chisq.test` in R. Both these functions will take a matrix like input of a contingency table / pair-wise frequency table. Both Pyspark and SparklyR have inbuilt functions which can produce these tables (`crosstab`/`sdf_crosstab`) as we will see shortly.\n",
    "\n",
    "Due to Pyspark and SparklyR's differences to classical python and R, we need to consider how we can calculate Cramér's V when using Spark DataFrames.\n",
    "First we will import the needed packages, start a spark session and load the rescue data. "
   ]
  },
  {
   "cell_type": "code",
   "execution_count": 20,
   "metadata": {},
   "outputs": [],
   "source": [
    "import yaml\n",
    "import numpy as np\n",
    "from pyspark.sql import SparkSession, functions as F\n",
    "import scipy.stats as stats\n",
    "\n",
    "\n",
    "spark = (SparkSession.builder.master(\"local[2]\")\n",
    "         .appName(\"cramer-v\")\n",
    "         .getOrCreate())\n",
    "\n",
    "\n",
    "with open(\"../../../config.yaml\") as f:\n",
    "    config = yaml.safe_load(f)\n",
    "    \n",
    "# rescue_path = config[\"rescue_path_csv\"]\n",
    "# rescue_path = config[\"rescue_clean_path\"]\n",
    "# rescue = spark.read.parquet(rescue_path)\n",
    "rescue_path = \"../../data/animal_rescue.csv\"\n",
    "rescue = spark.read.csv(rescue_path, header=True, inferSchema=True)\n",
    "rescue = (rescue.withColumnRenamed('AnimalGroupParent','animal_type')\n",
    "                .withColumnRenamed('CalYear', 'cal_year')\n",
    "                .withColumnRenamed('PostcodeDistrict','postcode_district')\n",
    "          )\n"
   ]
  },
  {
   "cell_type": "markdown",
   "metadata": {},
   "source": [
    "```R\n",
    "library(sparklyr)\n",
    "library(dplyr)\n",
    "\n",
    "default_config <- sparklyr::spark_config()\n",
    "\n",
    "sc <- sparklyr::spark_connect(\n",
    "    master = \"local[2]\",\n",
    "    app_name = \"cramer-v\",\n",
    "    config = default_config)\n",
    "\n",
    "config <- yaml::yaml.load_file(\"ons-spark/config.yaml\")\n",
    "rescue <- sparklyr::spark_read_parquet(sc, config$rescue_clean_path, header=TRUE, infer_schema=TRUE)\n",
    "rescue <- rescue %>% dplyr::rename(\n",
    "                    animal_type = animal_group,\n",
    "                    postcode_district = postcodedistrict)\n",
    "\n",
    "```"
   ]
  },
  {
   "cell_type": "markdown",
   "metadata": {},
   "source": [
    "As Cramér V is a measure of how two variables are associated, it makes sense for us to select two variables which we either believe will or will not have some level of association. For our first example we will select the `cal_year` and `animal_type` columns. following this we will compare `postcode_district` and `animal_type`.\n",
    "\n",
    "#### Cramér's V Example 1: `cal_year` and `animal_type`\n",
    "\n",
    "Using either `.crosstab()` or `sdf_crosstab()`, we can calculate a pair-wise frequency table of the `id` and `value` columns (a.k.a. contingency table). We will generate this table and convert it to a pandas DataFrame."
   ]
  },
  {
   "cell_type": "code",
   "execution_count": 13,
   "metadata": {},
   "outputs": [
    {
     "data": {
      "text/html": [
       "<div>\n",
       "<style scoped>\n",
       "    .dataframe tbody tr th:only-of-type {\n",
       "        vertical-align: middle;\n",
       "    }\n",
       "\n",
       "    .dataframe tbody tr th {\n",
       "        vertical-align: top;\n",
       "    }\n",
       "\n",
       "    .dataframe thead th {\n",
       "        text-align: right;\n",
       "    }\n",
       "</style>\n",
       "<table border=\"1\" class=\"dataframe\">\n",
       "  <thead>\n",
       "    <tr style=\"text-align: right;\">\n",
       "      <th></th>\n",
       "      <th>cal_year_animal_type</th>\n",
       "      <th>Bird</th>\n",
       "      <th>Budgie</th>\n",
       "      <th>Bull</th>\n",
       "      <th>Cat</th>\n",
       "      <th>Cow</th>\n",
       "      <th>Deer</th>\n",
       "      <th>Dog</th>\n",
       "      <th>Ferret</th>\n",
       "      <th>Fish</th>\n",
       "      <th>...</th>\n",
       "      <th>Rabbit</th>\n",
       "      <th>Sheep</th>\n",
       "      <th>Snake</th>\n",
       "      <th>Squirrel</th>\n",
       "      <th>Tortoise</th>\n",
       "      <th>Unknown - Animal rescue from water - Farm animal</th>\n",
       "      <th>Unknown - Domestic Animal Or Pet</th>\n",
       "      <th>Unknown - Heavy Livestock Animal</th>\n",
       "      <th>Unknown - Wild Animal</th>\n",
       "      <th>cat</th>\n",
       "    </tr>\n",
       "  </thead>\n",
       "  <tbody>\n",
       "    <tr>\n",
       "      <th>0</th>\n",
       "      <td>2016</td>\n",
       "      <td>120</td>\n",
       "      <td>0</td>\n",
       "      <td>0</td>\n",
       "      <td>296</td>\n",
       "      <td>1</td>\n",
       "      <td>14</td>\n",
       "      <td>107</td>\n",
       "      <td>0</td>\n",
       "      <td>0</td>\n",
       "      <td>...</td>\n",
       "      <td>2</td>\n",
       "      <td>1</td>\n",
       "      <td>1</td>\n",
       "      <td>3</td>\n",
       "      <td>0</td>\n",
       "      <td>0</td>\n",
       "      <td>8</td>\n",
       "      <td>0</td>\n",
       "      <td>5</td>\n",
       "      <td>1</td>\n",
       "    </tr>\n",
       "    <tr>\n",
       "      <th>1</th>\n",
       "      <td>2012</td>\n",
       "      <td>112</td>\n",
       "      <td>0</td>\n",
       "      <td>0</td>\n",
       "      <td>302</td>\n",
       "      <td>3</td>\n",
       "      <td>7</td>\n",
       "      <td>100</td>\n",
       "      <td>1</td>\n",
       "      <td>0</td>\n",
       "      <td>...</td>\n",
       "      <td>0</td>\n",
       "      <td>1</td>\n",
       "      <td>0</td>\n",
       "      <td>4</td>\n",
       "      <td>0</td>\n",
       "      <td>1</td>\n",
       "      <td>18</td>\n",
       "      <td>4</td>\n",
       "      <td>4</td>\n",
       "      <td>3</td>\n",
       "    </tr>\n",
       "    <tr>\n",
       "      <th>2</th>\n",
       "      <td>2019</td>\n",
       "      <td>9</td>\n",
       "      <td>0</td>\n",
       "      <td>0</td>\n",
       "      <td>16</td>\n",
       "      <td>0</td>\n",
       "      <td>2</td>\n",
       "      <td>1</td>\n",
       "      <td>0</td>\n",
       "      <td>0</td>\n",
       "      <td>...</td>\n",
       "      <td>0</td>\n",
       "      <td>0</td>\n",
       "      <td>0</td>\n",
       "      <td>1</td>\n",
       "      <td>0</td>\n",
       "      <td>1</td>\n",
       "      <td>3</td>\n",
       "      <td>0</td>\n",
       "      <td>0</td>\n",
       "      <td>0</td>\n",
       "    </tr>\n",
       "    <tr>\n",
       "      <th>3</th>\n",
       "      <td>2017</td>\n",
       "      <td>124</td>\n",
       "      <td>0</td>\n",
       "      <td>0</td>\n",
       "      <td>257</td>\n",
       "      <td>0</td>\n",
       "      <td>11</td>\n",
       "      <td>81</td>\n",
       "      <td>0</td>\n",
       "      <td>0</td>\n",
       "      <td>...</td>\n",
       "      <td>0</td>\n",
       "      <td>0</td>\n",
       "      <td>1</td>\n",
       "      <td>5</td>\n",
       "      <td>0</td>\n",
       "      <td>0</td>\n",
       "      <td>8</td>\n",
       "      <td>0</td>\n",
       "      <td>7</td>\n",
       "      <td>1</td>\n",
       "    </tr>\n",
       "    <tr>\n",
       "      <th>4</th>\n",
       "      <td>2014</td>\n",
       "      <td>110</td>\n",
       "      <td>0</td>\n",
       "      <td>0</td>\n",
       "      <td>295</td>\n",
       "      <td>1</td>\n",
       "      <td>5</td>\n",
       "      <td>90</td>\n",
       "      <td>0</td>\n",
       "      <td>0</td>\n",
       "      <td>...</td>\n",
       "      <td>3</td>\n",
       "      <td>0</td>\n",
       "      <td>0</td>\n",
       "      <td>2</td>\n",
       "      <td>0</td>\n",
       "      <td>1</td>\n",
       "      <td>29</td>\n",
       "      <td>0</td>\n",
       "      <td>7</td>\n",
       "      <td>3</td>\n",
       "    </tr>\n",
       "  </tbody>\n",
       "</table>\n",
       "<p>5 rows × 28 columns</p>\n",
       "</div>"
      ],
      "text/plain": [
       "  cal_year_animal_type  Bird  Budgie  Bull  Cat  Cow  Deer  Dog  Ferret  Fish  \\\n",
       "0                 2016   120       0     0  296    1    14  107       0     0   \n",
       "1                 2012   112       0     0  302    3     7  100       1     0   \n",
       "2                 2019     9       0     0   16    0     2    1       0     0   \n",
       "3                 2017   124       0     0  257    0    11   81       0     0   \n",
       "4                 2014   110       0     0  295    1     5   90       0     0   \n",
       "\n",
       "   ...  Rabbit  Sheep  Snake  Squirrel  Tortoise  \\\n",
       "0  ...       2      1      1         3         0   \n",
       "1  ...       0      1      0         4         0   \n",
       "2  ...       0      0      0         1         0   \n",
       "3  ...       0      0      1         5         0   \n",
       "4  ...       3      0      0         2         0   \n",
       "\n",
       "   Unknown - Animal rescue from water - Farm animal  \\\n",
       "0                                                 0   \n",
       "1                                                 1   \n",
       "2                                                 1   \n",
       "3                                                 0   \n",
       "4                                                 1   \n",
       "\n",
       "   Unknown - Domestic Animal Or Pet  Unknown - Heavy Livestock Animal  \\\n",
       "0                                 8                                 0   \n",
       "1                                18                                 4   \n",
       "2                                 3                                 0   \n",
       "3                                 8                                 0   \n",
       "4                                29                                 0   \n",
       "\n",
       "   Unknown - Wild Animal  cat  \n",
       "0                      5    1  \n",
       "1                      4    3  \n",
       "2                      0    0  \n",
       "3                      7    1  \n",
       "4                      7    3  \n",
       "\n",
       "[5 rows x 28 columns]"
      ]
     },
     "execution_count": 13,
     "metadata": {},
     "output_type": "execute_result"
    }
   ],
   "source": [
    "freq_spark = rescue.crosstab('cal_year','animal_type')\n",
    "freq_pandas = freq_spark.toPandas()\n",
    "freq_pandas.head()"
   ]
  },
  {
   "cell_type": "markdown",
   "metadata": {},
   "source": [
    "```r\n",
    "freq_spark <- sdf_crosstab(rescue, 'cal_year', 'animal_type') \n",
    "glimpse(freq_spark)\n",
    "```"
   ]
  },
  {
   "cell_type": "markdown",
   "metadata": {},
   "source": [
    "Now that we have converted out data into a contingency table, we need to be careful about converting this into a matrix or array type variable. If we do this without considering the `CalYear_animal_type` column, we will end up with some string within our matrix. We would spot this issue when moving forward to use `.chi2_contingency()`, as we would get a `TypeError` raised. We need to find some way of dealing with our column, such that it is not converted when changing our pandas DataFrame into a numpy array. We do this by setting the `cal_year_animal_type` column as the index of our pandas dataframe, as neither the index or column headers are converted into a numpy array, just the internal values are extracted.\n",
    "\n",
    "A type issue is also raised in R, however we will deal with this slightly differently. Instead of changing the index of our DataFrame, we will simply drop the `cal_year_animal_type` column. This allows us to pass the frequency table directly into the `chisq.test()` function."
   ]
  },
  {
   "cell_type": "code",
   "execution_count": 14,
   "metadata": {},
   "outputs": [],
   "source": [
    "freq_pandas_reindexed = freq_pandas.set_index('cal_year_animal_type')\n",
    "freq_numpy = np.array(freq_pandas_reindexed)\n"
   ]
  },
  {
   "cell_type": "markdown",
   "metadata": {},
   "source": [
    "```R\n",
    "freq_r <- freq_spark %>% collect() \n",
    "freq_r <- subset(freq_r, select = -cal_year_animal_type)\n",
    "\n",
    "```"
   ]
  },
  {
   "cell_type": "markdown",
   "metadata": {},
   "source": [
    "As we are wanting to calculate Cramér's V for two examples, we will define a function to perform the $\\chi^2$ test and calculate the statistic. We only need the $\\chi^2$ statistic, as such we extract this from the `chi2_contingency`/`chisq.test` functions using `[0]` in python and `$statistic` in R. `chisq.test` has additional text included in the output, to remove this we cast this output as a double, keeping only the numerical value."
   ]
  },
  {
   "cell_type": "code",
   "execution_count": 19,
   "metadata": {},
   "outputs": [],
   "source": [
    "def get_cramer_v(freq_numpy):\n",
    "    # Chi-squared test statistic, sample size, and minimum of rows and columns\n",
    "    X2 = stats.chi2_contingency(freq_numpy, correction=False)[0]\n",
    "    n = np.sum(freq_numpy)\n",
    "    minDim = min(freq_numpy.shape)-1\n",
    "\n",
    "    #calculate Cramer's V \n",
    "    V = np.sqrt((X2/n) / minDim)\n",
    "    return V"
   ]
  },
  {
   "cell_type": "markdown",
   "metadata": {},
   "source": [
    "```r\n",
    "get_cramer_v <- function(freq_r){\n",
    "  # Chi-squared test statistic, sample size, and minimum of rows and columns\n",
    "  X2 <- chisq.test(freq_r, correct = FALSE)$statistic\n",
    "  X2 <- as.double(X2)\n",
    "  n <- sum(freq_r)\n",
    "  minDim <- min(dim(freq_r)) - 1\n",
    "\n",
    "  # calculate Cramer's V \n",
    "  V <- sqrt((X2/n) / minDim)\n",
    "  return(V)\n",
    "}\n",
    "```"
   ]
  },
  {
   "cell_type": "markdown",
   "metadata": {},
   "source": [
    "Following the preprocessing and consideration of column names, we can now apply the `get_cramer_v()` function to our arrays "
   ]
  },
  {
   "cell_type": "code",
   "execution_count": 16,
   "metadata": {},
   "outputs": [
    {
     "data": {
      "text/plain": [
       "0.08756854441378689"
      ]
     },
     "execution_count": 16,
     "metadata": {},
     "output_type": "execute_result"
    }
   ],
   "source": [
    "get_cramer_v(freq_numpy)"
   ]
  },
  {
   "cell_type": "markdown",
   "metadata": {},
   "source": [
    "```r\n",
    "get_cramer_v(freq_r)\n",
    "```"
   ]
  },
  {
   "cell_type": "markdown",
   "metadata": {},
   "source": [
    "We now get an Cramér V of 0.087, telling us that there is little to no association between `cal_year` and `animal_type`.\n",
    "This example also validates both Python and R methods against each other, as we get identical outputs.\n",
    "\n",
    "#### Cramér's V Example 2: `postcode_district` and `animal_type`\n",
    "\n",
    "Using the earlier defined function, just need to repeat the cross tabbing exercise before applying our function. This time we will select `postcode_district` instead of `cal_year`."
   ]
  },
  {
   "cell_type": "code",
   "execution_count": 21,
   "metadata": {},
   "outputs": [
    {
     "data": {
      "text/plain": [
       "0.28791093176153515"
      ]
     },
     "execution_count": 21,
     "metadata": {},
     "output_type": "execute_result"
    }
   ],
   "source": [
    "freq_spark = rescue.crosstab('postcode_district','animal_type')\n",
    "freq_pandas = freq_spark.toPandas()\n",
    "freq_pandas_reindexed = freq_pandas.set_index('postcode_district_animal_type')\n",
    "freq_numpy = np.array(freq_pandas_reindexed)\n",
    "get_cramer_v(freq_numpy)"
   ]
  },
  {
   "cell_type": "markdown",
   "metadata": {},
   "source": [
    "```r\n",
    "freq_spark <- sdf_crosstab(rescue, 'postcode_district', 'animal_type') \n",
    "freq_r <- freq_spark %>% collect() \n",
    "freq_r <- subset(freq_r, select = -postcode_district_animal_type)\n",
    "get_cramer_v(freq_r)\n",
    "\n",
    "```"
   ]
  },
  {
   "cell_type": "markdown",
   "metadata": {},
   "source": [
    "This time we get a cramér V value of 0.28, suggesting a slight association between `postcode_district` and `animal_type`.\n",
    "\n",
    "### Potential Issue with `sdf_crosstab()`\n",
    "During the testing for this page, we noted a few common issues which may arise when attempting to calculate Cramér's V statistic. Specifically this issue is linked to `sdf_crosstab()` function for data which has not been fully pre processed.\n",
    "\n",
    "For this example we take the unprocessed rescue dataset. Here in `animal_type`, we have values for cat with both a upper and lower case first letter. Here we will use the `tryCatch()` function to handle the error message, this is similar to pythons `try: except:` statements (For more info see [`Error handing in R`](https://cran.r-project.org/web/packages/tryCatchLog/vignettes/tryCatchLog-intro.html) or [`Errors and Exceptions (Python)`](https://docs.python.org/3/tutorial/errors.html)).\n",
    "\n"
   ]
  },
  {
   "cell_type": "markdown",
   "metadata": {},
   "source": [
    "```r\n",
    "rescue_raw <- sparklyr::spark_read_csv(sc, config$rescue_path_csv, header=TRUE, infer_schema=TRUE)\n",
    "rescue_raw <- rescue_raw %>%\n",
    "    dplyr::rename(\n",
    "        incident_number = IncidentNumber,\n",
    "        animal_type = AnimalGroupParent,\n",
    "        cal_year = CalYear)\n",
    "\n",
    "sdf_crosstab(rescue_raw, 'cal_year', 'animal_type') \n",
    "\n",
    "tryCatch(\n",
    "  {\n",
    "    sdf_crosstab(rescue_raw, 'cal_year', 'animal_type')\n",
    "  },\n",
    "  error = function(e){\n",
    "    message('Error message from Spark')\n",
    "    print(e)\n",
    "  }\n",
    ")\n",
    "```"
   ]
  },
  {
   "cell_type": "markdown",
   "metadata": {},
   "source": [
    "From the error message, we can see that `Cat` is ambigious. When we look closer at the distinct values within the `animal_type` column, we will see there is both `cat` and `Cat` present. This is something to be aware of if you wish to use `sdf_crosstab` in the future."
   ]
  },
  {
   "cell_type": "markdown",
   "metadata": {},
   "source": [
    "```r\n",
    "rescue_raw %>% sparklyr::select(animal_type) %>% distinct()\n",
    "```"
   ]
  },
  {
   "cell_type": "markdown",
   "metadata": {},
   "source": [
    "Python does not encounter this issue, and views the case difference between the groups separately. "
   ]
  },
  {
   "cell_type": "markdown",
   "metadata": {},
   "source": [
    "### Further resources\n",
    "\n",
    "PySpark Documentation:\n",
    "- [`.crosstab()`](https://spark.apache.org/docs/3.1.3/api/python/reference/api/pyspark.sql.DataFrame.crosstab.html)\n",
    "\n",
    "Python Documentation:\n",
    "- [`chi2_contingency()`](https://docs.scipy.org/doc/scipy/reference/generated/scipy.stats.chi2_contingency.html)\n",
    "- [`array()`](https://numpy.org/doc/stable/reference/generated/numpy.array.html)\n",
    "- [`Errors and Exceptions`](https://docs.python.org/3/tutorial/errors.html)\n",
    "\n",
    "sparklyr Documentation:\n",
    "- [`sdf_crosstab()`](https://www.rdocumentation.org/packages/sparklyr/versions/1.3.1/topics/sdf_crosstab)\n",
    "\n",
    "R Documention:\n",
    "- [`chisq.test()`](https://www.rdocumentation.org/packages/stats/versions/3.6.2/topics/chisq.test)\n",
    "- [`Error handing in R`](https://cran.r-project.org/web/packages/tryCatchLog/vignettes/tryCatchLog-intro.html)\n"
   ]
  }
 ],
 "metadata": {
  "kernelspec": {
   "display_name": "Python 3",
   "language": "python",
   "name": "python3"
  },
  "language_info": {
   "codemirror_mode": {
    "name": "ipython",
    "version": 3
   },
   "file_extension": ".py",
   "mimetype": "text/x-python",
   "name": "python",
   "nbconvert_exporter": "python",
   "pygments_lexer": "ipython3",
   "version": "3.8.3"
  }
 },
 "nbformat": 4,
 "nbformat_minor": 4
}
